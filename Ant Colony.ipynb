{
 "cells": [
  {
   "cell_type": "markdown",
   "metadata": {},
   "source": [
    "# Ant Colony Optimization"
   ]
  },
  {
   "cell_type": "code",
   "execution_count": 13,
   "metadata": {},
   "outputs": [],
   "source": [
    "import numpy as np\n",
    "import math\n",
    "import matplotlib.pyplot as plt\n",
    "import copy\n",
    "import itertools"
   ]
  },
  {
   "cell_type": "markdown",
   "metadata": {},
   "source": [
    "#### Define the Problem"
   ]
  },
  {
   "cell_type": "code",
   "execution_count": 41,
   "metadata": {},
   "outputs": [],
   "source": [
    "class TSPmodel:\n",
    "    def __init__(self,num):\n",
    "        # generate random coordinates\n",
    "        self.cities = np.random.uniform(0,100,(num,2))\n",
    "        self.n = num\n",
    "    \n",
    "        # create distance matrix\n",
    "        self.distance = np.zeros((num,num))\n",
    "        \n",
    "        for i,j in itertools.combinations(range(num),2):\n",
    "            # compute the euclidean distance\n",
    "            c1 = self.cities[i]\n",
    "            c2 = self.cities[j]\n",
    "            dis = np.sqrt((c1[0]-c2[0])**2 + \\\n",
    "                         (c1[1]-c2[1])**2)\n",
    "            \n",
    "            # fill in the distance matrix\n",
    "            self.distance[i,j] = self.distance[j,i] = dis\n",
    "    \n",
    "    def plot_model(self):\n",
    "        for i,j in zip(range(self.n), self.cities):\n",
    "            plt.text(j[0] + 0.3, j[1] + 0.3,\n",
    "                    str(i), color='Black')\n",
    "        \n",
    "        plt.plot(self.cities[:,0],\n",
    "                self.cities[:,1], 'bo')\n",
    "        plt.show()"
   ]
  },
  {
   "cell_type": "code",
   "execution_count": 42,
   "metadata": {},
   "outputs": [],
   "source": [
    "# check a sample\n",
    "country1 = TSPmodel(5)"
   ]
  },
  {
   "cell_type": "code",
   "execution_count": 43,
   "metadata": {},
   "outputs": [
    {
     "data": {
      "text/plain": [
       "array([[ 0.        , 23.87983727, 36.10761787, 61.71054866, 66.74753192],\n",
       "       [23.87983727,  0.        , 14.07321578, 64.3459649 , 44.27478857],\n",
       "       [36.10761787, 14.07321578,  0.        , 60.95679038, 30.70415258],\n",
       "       [61.71054866, 64.3459649 , 60.95679038,  0.        , 73.26828524],\n",
       "       [66.74753192, 44.27478857, 30.70415258, 73.26828524,  0.        ]])"
      ]
     },
     "execution_count": 43,
     "metadata": {},
     "output_type": "execute_result"
    }
   ],
   "source": [
    "country1.distance"
   ]
  },
  {
   "cell_type": "code",
   "execution_count": 44,
   "metadata": {},
   "outputs": [
    {
     "data": {
      "image/png": "[encoded data removed]",
      "text/plain": [
       "<Figure size 432x288 with 1 Axes>"
      ]
     },
     "metadata": {
      "needs_background": "light"
     },
     "output_type": "display_data"
    }
   ],
   "source": [
    "country1.plot_model()"
   ]
  },
  {
   "cell_type": "code",
   "execution_count": 153,
   "metadata": {},
   "outputs": [
    {
     "data": {
      "text/plain": [
       "237.14307258020517"
      ]
     },
     "execution_count": 153,
     "metadata": {},
     "output_type": "execute_result"
    }
   ],
   "source": [
    "# solution = [0,1,2,4,3]\n",
    "solution = [0,3,1,4,2]\n",
    "def tour_length(tour, model):\n",
    "    tour = np.append(tour,tour[0])\n",
    "    dis = [model.distance[tour[i], tour[i+1]] for i in range(len(tour)-1)]\n",
    "    return np.sum(dis)\n",
    "\n",
    "tour_length(solution, country1)"
   ]
  },
  {
   "cell_type": "markdown",
   "metadata": {},
   "source": [
    "#### Problem Hyperparameters"
   ]
  },
  {
   "cell_type": "code",
   "execution_count": 154,
   "metadata": {},
   "outputs": [],
   "source": [
    "nCities = 30\n",
    "country = TSPmodel(nCities)\n",
    "cost_function = lambda t: tour_length(t, country)\n",
    "\n",
    "# def cost_function(t):\n",
    "#     return tour_length(t, country)"
   ]
  },
  {
   "cell_type": "code",
   "execution_count": 155,
   "metadata": {},
   "outputs": [
    {
     "data": {
      "image/png": "[encoded data removed]",
      "text/plain": [
       "<Figure size 432x288 with 1 Axes>"
      ]
     },
     "metadata": {
      "needs_background": "light"
     },
     "output_type": "display_data"
    }
   ],
   "source": [
    "country.plot_model()"
   ]
  },
  {
   "cell_type": "markdown",
   "metadata": {},
   "source": [
    "#### Ant Transition Rule"
   ]
  },
  {
   "cell_type": "markdown",
   "metadata": {},
   "source": [
    "![ant](4.jpg)"
   ]
  },
  {
   "cell_type": "markdown",
   "metadata": {},
   "source": [
    "#### Pheromone Update"
   ]
  },
  {
   "cell_type": "markdown",
   "metadata": {},
   "source": [
    "![1](66.png)"
   ]
  },
  {
   "cell_type": "markdown",
   "metadata": {},
   "source": [
    "![3](88.png)"
   ]
  },
  {
   "cell_type": "markdown",
   "metadata": {},
   "source": [
    "* ant system\n",
    "* elitist ant system\n",
    "* ant colony system\n",
    "* MMAS\n",
    "* simple ant system\n",
    "* ..."
   ]
  },
  {
   "cell_type": "markdown",
   "metadata": {},
   "source": [
    "#### ACO hyperparameters"
   ]
  },
  {
   "cell_type": "code",
   "execution_count": 156,
   "metadata": {},
   "outputs": [],
   "source": [
    "iterations = 300\n",
    "nAnts = 50\n",
    "\n",
    "alpha = 1   # pheromone exponential weight\n",
    "beta = 1    # heuristic exponential weight\n",
    "\n",
    "Q = 1       # pheromone deposit coefficient\n",
    "\n",
    "rho = 0.05  # evaporation rate\n",
    "\n",
    "initial_tau = 1  # initial pheromone"
   ]
  },
  {
   "cell_type": "markdown",
   "metadata": {},
   "source": [
    "#### Initilization"
   ]
  },
  {
   "cell_type": "code",
   "execution_count": 157,
   "metadata": {},
   "outputs": [
    {
     "name": "stderr",
     "output_type": "stream",
     "text": [
      "D:\\ProgramData\\Anaconda3\\lib\\site-packages\\ipykernel_launcher.py:3: RuntimeWarning: divide by zero encountered in true_divide\n",
      "  This is separate from the ipykernel package so we can avoid doing imports until\n"
     ]
    }
   ],
   "source": [
    "tau = np.full((nCities,nCities), initial_tau)\n",
    "\n",
    "eta = 1 / country.distance\n",
    "\n",
    "for i in range(nCities):\n",
    "    eta[i,i] = 0\n",
    "\n",
    "best_cost = []\n",
    "\n",
    "class Ant:\n",
    "    def __init__(self):\n",
    "        self.tour = []\n",
    "        self.cost = np.inf\n",
    "\n",
    "ants = [Ant() for _ in range(nAnts)]\n",
    "\n",
    "best_ant = Ant()"
   ]
  },
  {
   "cell_type": "code",
   "execution_count": 158,
   "metadata": {},
   "outputs": [],
   "source": [
    "#### Roulette Wheel\n",
    "\n",
    "def roulette_wheel(x):\n",
    "    # x is a list(array) of probabilities\n",
    "    prob_cum_sum = list(np.cumsum(x))\n",
    "    r = np.random.random()\n",
    "    for i,j in enumerate(prob_cum_sum):\n",
    "        if r<=j:\n",
    "            return i"
   ]
  },
  {
   "cell_type": "markdown",
   "metadata": {},
   "source": [
    "#### ACO main loop"
   ]
  },
  {
   "cell_type": "code",
   "execution_count": 160,
   "metadata": {},
   "outputs": [
    {
     "name": "stdout",
     "output_type": "stream",
     "text": [
      "Iteration 0: Best Cost = 941.6778717121242\n",
      "Iteration 1: Best Cost = 941.6778717121242\n",
      "Iteration 2: Best Cost = 941.6778717121242\n",
      "Iteration 3: Best Cost = 917.3187806197191\n",
      "Iteration 4: Best Cost = 917.3187806197191\n",
      "Iteration 5: Best Cost = 866.7027914175924\n",
      "Iteration 6: Best Cost = 866.7027914175924\n",
      "Iteration 7: Best Cost = 866.7027914175924\n",
      "Iteration 8: Best Cost = 866.7027914175924\n",
      "Iteration 9: Best Cost = 866.7027914175924\n",
      "Iteration 10: Best Cost = 866.7027914175924\n",
      "Iteration 11: Best Cost = 777.041232444992\n",
      "Iteration 12: Best Cost = 777.041232444992\n",
      "Iteration 13: Best Cost = 777.041232444992\n",
      "Iteration 14: Best Cost = 777.041232444992\n",
      "Iteration 15: Best Cost = 777.041232444992\n",
      "Iteration 16: Best Cost = 777.041232444992\n",
      "Iteration 17: Best Cost = 777.041232444992\n",
      "Iteration 18: Best Cost = 777.041232444992\n",
      "Iteration 19: Best Cost = 777.041232444992\n",
      "Iteration 20: Best Cost = 777.041232444992\n",
      "Iteration 21: Best Cost = 777.041232444992\n",
      "Iteration 22: Best Cost = 777.041232444992\n",
      "Iteration 23: Best Cost = 777.041232444992\n",
      "Iteration 24: Best Cost = 777.041232444992\n",
      "Iteration 25: Best Cost = 777.041232444992\n",
      "Iteration 26: Best Cost = 777.041232444992\n",
      "Iteration 27: Best Cost = 777.041232444992\n",
      "Iteration 28: Best Cost = 777.041232444992\n",
      "Iteration 29: Best Cost = 777.041232444992\n",
      "Iteration 30: Best Cost = 777.041232444992\n",
      "Iteration 31: Best Cost = 777.041232444992\n",
      "Iteration 32: Best Cost = 777.041232444992\n",
      "Iteration 33: Best Cost = 777.041232444992\n",
      "Iteration 34: Best Cost = 777.041232444992\n",
      "Iteration 35: Best Cost = 777.041232444992\n",
      "Iteration 36: Best Cost = 777.041232444992\n",
      "Iteration 37: Best Cost = 777.041232444992\n",
      "Iteration 38: Best Cost = 777.041232444992\n",
      "Iteration 39: Best Cost = 777.041232444992\n",
      "Iteration 40: Best Cost = 740.9749678417214\n",
      "Iteration 41: Best Cost = 740.9749678417214\n",
      "Iteration 42: Best Cost = 740.9749678417214\n",
      "Iteration 43: Best Cost = 740.9749678417214\n",
      "Iteration 44: Best Cost = 740.9749678417214\n",
      "Iteration 45: Best Cost = 729.7823070237602\n",
      "Iteration 46: Best Cost = 729.7823070237602\n",
      "Iteration 47: Best Cost = 729.7823070237602\n",
      "Iteration 48: Best Cost = 729.7823070237602\n",
      "Iteration 49: Best Cost = 729.7823070237602\n",
      "Iteration 50: Best Cost = 729.7823070237602\n",
      "Iteration 51: Best Cost = 672.6540144136918\n",
      "Iteration 52: Best Cost = 672.6540144136918\n",
      "Iteration 53: Best Cost = 672.6540144136918\n",
      "Iteration 54: Best Cost = 672.6540144136918\n",
      "Iteration 55: Best Cost = 672.6540144136918\n",
      "Iteration 56: Best Cost = 672.6540144136918\n",
      "Iteration 57: Best Cost = 672.6540144136918\n",
      "Iteration 58: Best Cost = 672.6540144136918\n",
      "Iteration 59: Best Cost = 672.6540144136918\n",
      "Iteration 60: Best Cost = 669.3386397535797\n",
      "Iteration 61: Best Cost = 669.3386397535797\n",
      "Iteration 62: Best Cost = 669.3386397535797\n",
      "Iteration 63: Best Cost = 669.3386397535797\n",
      "Iteration 64: Best Cost = 669.3386397535797\n",
      "Iteration 65: Best Cost = 650.143037696574\n",
      "Iteration 66: Best Cost = 650.143037696574\n",
      "Iteration 67: Best Cost = 650.143037696574\n",
      "Iteration 68: Best Cost = 647.521702305467\n",
      "Iteration 69: Best Cost = 647.521702305467\n",
      "Iteration 70: Best Cost = 640.3122483691205\n",
      "Iteration 71: Best Cost = 640.3122483691205\n",
      "Iteration 72: Best Cost = 640.3122483691205\n",
      "Iteration 73: Best Cost = 640.3122483691205\n",
      "Iteration 74: Best Cost = 640.3122483691205\n",
      "Iteration 75: Best Cost = 640.3122483691205\n",
      "Iteration 76: Best Cost = 640.3122483691205\n",
      "Iteration 77: Best Cost = 606.9434718186908\n",
      "Iteration 78: Best Cost = 606.9434718186908\n",
      "Iteration 79: Best Cost = 592.2797551659576\n",
      "Iteration 80: Best Cost = 592.2797551659576\n",
      "Iteration 81: Best Cost = 592.2797551659576\n",
      "Iteration 82: Best Cost = 592.2797551659576\n",
      "Iteration 83: Best Cost = 592.2797551659576\n",
      "Iteration 84: Best Cost = 580.0175753754309\n",
      "Iteration 85: Best Cost = 580.0175753754309\n",
      "Iteration 86: Best Cost = 580.0175753754309\n",
      "Iteration 87: Best Cost = 580.0175753754309\n",
      "Iteration 88: Best Cost = 580.0175753754309\n",
      "Iteration 89: Best Cost = 580.0175753754309\n",
      "Iteration 90: Best Cost = 580.0175753754309\n",
      "Iteration 91: Best Cost = 580.0175753754309\n",
      "Iteration 92: Best Cost = 580.0175753754309\n",
      "Iteration 93: Best Cost = 539.2403763583438\n",
      "Iteration 94: Best Cost = 539.2403763583438\n",
      "Iteration 95: Best Cost = 539.2403763583438\n",
      "Iteration 96: Best Cost = 539.2403763583438\n",
      "Iteration 97: Best Cost = 539.2403763583438\n",
      "Iteration 98: Best Cost = 539.2403763583438\n",
      "Iteration 99: Best Cost = 539.2403763583438\n",
      "Iteration 100: Best Cost = 526.0610024734007\n",
      "Iteration 101: Best Cost = 526.0610024734007\n",
      "Iteration 102: Best Cost = 526.0610024734007\n",
      "Iteration 103: Best Cost = 526.0610024734007\n",
      "Iteration 104: Best Cost = 526.0610024734007\n",
      "Iteration 105: Best Cost = 526.0610024734007\n",
      "Iteration 106: Best Cost = 526.0610024734007\n",
      "Iteration 107: Best Cost = 526.0610024734007\n",
      "Iteration 108: Best Cost = 526.0610024734007\n",
      "Iteration 109: Best Cost = 526.0610024734007\n",
      "Iteration 110: Best Cost = 526.0610024734007\n",
      "Iteration 111: Best Cost = 526.0610024734007\n",
      "Iteration 112: Best Cost = 526.0610024734007\n",
      "Iteration 113: Best Cost = 526.0610024734007\n",
      "Iteration 114: Best Cost = 513.4324580383188\n",
      "Iteration 115: Best Cost = 513.4324580383188\n",
      "Iteration 116: Best Cost = 513.4324580383188\n",
      "Iteration 117: Best Cost = 513.4324580383188\n",
      "Iteration 118: Best Cost = 513.4324580383188\n",
      "Iteration 119: Best Cost = 513.4324580383188\n",
      "Iteration 120: Best Cost = 513.4324580383188\n",
      "Iteration 121: Best Cost = 513.4324580383188\n",
      "Iteration 122: Best Cost = 486.0149721031828\n",
      "Iteration 123: Best Cost = 486.0149721031828\n",
      "Iteration 124: Best Cost = 449.33016557528293\n",
      "Iteration 125: Best Cost = 449.33016557528293\n",
      "Iteration 126: Best Cost = 449.33016557528293\n",
      "Iteration 127: Best Cost = 449.33016557528293\n",
      "Iteration 128: Best Cost = 449.33016557528293\n",
      "Iteration 129: Best Cost = 449.33016557528293\n",
      "Iteration 130: Best Cost = 449.33016557528293\n",
      "Iteration 131: Best Cost = 449.33016557528293\n",
      "Iteration 132: Best Cost = 449.33016557528293\n",
      "Iteration 133: Best Cost = 449.33016557528293\n",
      "Iteration 134: Best Cost = 449.33016557528293\n",
      "Iteration 135: Best Cost = 449.33016557528293\n",
      "Iteration 136: Best Cost = 449.33016557528293\n",
      "Iteration 137: Best Cost = 449.33016557528293\n",
      "Iteration 138: Best Cost = 449.33016557528293\n",
      "Iteration 139: Best Cost = 449.33016557528293\n",
      "Iteration 140: Best Cost = 449.33016557528293\n",
      "Iteration 141: Best Cost = 449.33016557528293\n",
      "Iteration 142: Best Cost = 449.33016557528293\n",
      "Iteration 143: Best Cost = 449.33016557528293\n",
      "Iteration 144: Best Cost = 449.33016557528293\n",
      "Iteration 145: Best Cost = 449.33016557528293\n",
      "Iteration 146: Best Cost = 449.33016557528293\n",
      "Iteration 147: Best Cost = 449.33016557528293\n",
      "Iteration 148: Best Cost = 449.33016557528293\n",
      "Iteration 149: Best Cost = 449.33016557528293\n",
      "Iteration 150: Best Cost = 449.33016557528293\n",
      "Iteration 151: Best Cost = 449.33016557528293\n",
      "Iteration 152: Best Cost = 449.33016557528293\n",
      "Iteration 153: Best Cost = 449.33016557528293\n",
      "Iteration 154: Best Cost = 449.33016557528293\n",
      "Iteration 155: Best Cost = 449.33016557528293\n",
      "Iteration 156: Best Cost = 449.33016557528293\n",
      "Iteration 157: Best Cost = 449.33016557528293\n",
      "Iteration 158: Best Cost = 449.33016557528293\n",
      "Iteration 159: Best Cost = 449.33016557528293\n",
      "Iteration 160: Best Cost = 449.33016557528293\n",
      "Iteration 161: Best Cost = 449.33016557528293\n",
      "Iteration 162: Best Cost = 449.33016557528293\n",
      "Iteration 163: Best Cost = 449.33016557528293\n",
      "Iteration 164: Best Cost = 449.33016557528293\n",
      "Iteration 165: Best Cost = 449.33016557528293\n",
      "Iteration 166: Best Cost = 449.33016557528293\n",
      "Iteration 167: Best Cost = 449.33016557528293\n",
      "Iteration 168: Best Cost = 449.33016557528293\n",
      "Iteration 169: Best Cost = 449.33016557528293\n",
      "Iteration 170: Best Cost = 449.33016557528293\n",
      "Iteration 171: Best Cost = 449.33016557528293\n",
      "Iteration 172: Best Cost = 449.33016557528293\n",
      "Iteration 173: Best Cost = 449.33016557528293\n",
      "Iteration 174: Best Cost = 449.33016557528293\n",
      "Iteration 175: Best Cost = 449.33016557528293\n",
      "Iteration 176: Best Cost = 449.33016557528293\n",
      "Iteration 177: Best Cost = 449.33016557528293\n",
      "Iteration 178: Best Cost = 449.33016557528293\n",
      "Iteration 179: Best Cost = 449.33016557528293\n",
      "Iteration 180: Best Cost = 449.33016557528293\n",
      "Iteration 181: Best Cost = 449.33016557528293\n",
      "Iteration 182: Best Cost = 449.33016557528293\n",
      "Iteration 183: Best Cost = 449.33016557528293\n",
      "Iteration 184: Best Cost = 449.33016557528293\n",
      "Iteration 185: Best Cost = 449.33016557528293\n"
     ]
    },
    {
     "name": "stdout",
     "output_type": "stream",
     "text": [
      "Iteration 186: Best Cost = 449.33016557528293\n",
      "Iteration 187: Best Cost = 449.33016557528293\n",
      "Iteration 188: Best Cost = 449.33016557528293\n",
      "Iteration 189: Best Cost = 449.33016557528293\n",
      "Iteration 190: Best Cost = 449.33016557528293\n",
      "Iteration 191: Best Cost = 449.33016557528293\n",
      "Iteration 192: Best Cost = 449.33016557528293\n",
      "Iteration 193: Best Cost = 449.33016557528293\n",
      "Iteration 194: Best Cost = 449.33016557528293\n",
      "Iteration 195: Best Cost = 449.33016557528293\n",
      "Iteration 196: Best Cost = 449.33016557528293\n",
      "Iteration 197: Best Cost = 449.33016557528293\n",
      "Iteration 198: Best Cost = 449.33016557528293\n",
      "Iteration 199: Best Cost = 449.33016557528293\n",
      "Iteration 200: Best Cost = 449.33016557528293\n",
      "Iteration 201: Best Cost = 449.33016557528293\n",
      "Iteration 202: Best Cost = 449.33016557528293\n",
      "Iteration 203: Best Cost = 449.33016557528293\n",
      "Iteration 204: Best Cost = 449.33016557528293\n",
      "Iteration 205: Best Cost = 449.33016557528293\n",
      "Iteration 206: Best Cost = 449.33016557528293\n",
      "Iteration 207: Best Cost = 449.33016557528293\n",
      "Iteration 208: Best Cost = 449.33016557528293\n",
      "Iteration 209: Best Cost = 449.33016557528293\n",
      "Iteration 210: Best Cost = 435.21486568413616\n",
      "Iteration 211: Best Cost = 435.21486568413616\n",
      "Iteration 212: Best Cost = 435.21486568413616\n",
      "Iteration 213: Best Cost = 435.21486568413616\n",
      "Iteration 214: Best Cost = 435.21486568413616\n",
      "Iteration 215: Best Cost = 435.21486568413616\n",
      "Iteration 216: Best Cost = 435.21486568413616\n",
      "Iteration 217: Best Cost = 435.21486568413616\n",
      "Iteration 218: Best Cost = 435.21486568413616\n",
      "Iteration 219: Best Cost = 435.21486568413616\n",
      "Iteration 220: Best Cost = 435.21486568413616\n",
      "Iteration 221: Best Cost = 435.21486568413616\n",
      "Iteration 222: Best Cost = 435.21486568413616\n",
      "Iteration 223: Best Cost = 435.21486568413616\n",
      "Iteration 224: Best Cost = 435.21486568413616\n",
      "Iteration 225: Best Cost = 435.21486568413616\n",
      "Iteration 226: Best Cost = 435.21486568413616\n",
      "Iteration 227: Best Cost = 435.21486568413616\n",
      "Iteration 228: Best Cost = 435.21486568413616\n",
      "Iteration 229: Best Cost = 435.21486568413616\n",
      "Iteration 230: Best Cost = 435.21486568413616\n",
      "Iteration 231: Best Cost = 435.21486568413616\n",
      "Iteration 232: Best Cost = 435.21486568413616\n",
      "Iteration 233: Best Cost = 435.21486568413616\n",
      "Iteration 234: Best Cost = 435.21486568413616\n",
      "Iteration 235: Best Cost = 435.21486568413616\n",
      "Iteration 236: Best Cost = 435.21486568413616\n",
      "Iteration 237: Best Cost = 435.21486568413616\n",
      "Iteration 238: Best Cost = 435.21486568413616\n",
      "Iteration 239: Best Cost = 435.21486568413616\n",
      "Iteration 240: Best Cost = 435.21486568413616\n",
      "Iteration 241: Best Cost = 435.21486568413616\n",
      "Iteration 242: Best Cost = 435.21486568413616\n",
      "Iteration 243: Best Cost = 435.21486568413616\n",
      "Iteration 244: Best Cost = 435.21486568413616\n",
      "Iteration 245: Best Cost = 435.21486568413616\n",
      "Iteration 246: Best Cost = 435.21486568413616\n",
      "Iteration 247: Best Cost = 435.21486568413616\n",
      "Iteration 248: Best Cost = 435.21486568413616\n",
      "Iteration 249: Best Cost = 435.21486568413616\n",
      "Iteration 250: Best Cost = 435.21486568413616\n",
      "Iteration 251: Best Cost = 435.21486568413616\n",
      "Iteration 252: Best Cost = 435.21486568413616\n",
      "Iteration 253: Best Cost = 435.21486568413616\n",
      "Iteration 254: Best Cost = 435.21486568413616\n",
      "Iteration 255: Best Cost = 435.21486568413616\n",
      "Iteration 256: Best Cost = 435.21486568413616\n",
      "Iteration 257: Best Cost = 435.21486568413616\n",
      "Iteration 258: Best Cost = 435.21486568413616\n",
      "Iteration 259: Best Cost = 435.21486568413616\n",
      "Iteration 260: Best Cost = 435.21486568413616\n",
      "Iteration 261: Best Cost = 435.21486568413616\n",
      "Iteration 262: Best Cost = 435.21486568413616\n",
      "Iteration 263: Best Cost = 435.21486568413616\n",
      "Iteration 264: Best Cost = 435.21486568413616\n",
      "Iteration 265: Best Cost = 435.21486568413616\n",
      "Iteration 266: Best Cost = 435.21486568413616\n",
      "Iteration 267: Best Cost = 435.21486568413616\n",
      "Iteration 268: Best Cost = 435.21486568413616\n",
      "Iteration 269: Best Cost = 435.21486568413616\n",
      "Iteration 270: Best Cost = 426.2805711302274\n",
      "Iteration 271: Best Cost = 426.2805711302274\n",
      "Iteration 272: Best Cost = 426.2805711302274\n",
      "Iteration 273: Best Cost = 426.2805711302274\n",
      "Iteration 274: Best Cost = 426.2805711302274\n",
      "Iteration 275: Best Cost = 426.2805711302274\n",
      "Iteration 276: Best Cost = 426.2805711302274\n",
      "Iteration 277: Best Cost = 426.2805711302274\n",
      "Iteration 278: Best Cost = 426.2805711302274\n",
      "Iteration 279: Best Cost = 426.2805711302274\n",
      "Iteration 280: Best Cost = 426.2805711302274\n",
      "Iteration 281: Best Cost = 426.2805711302274\n",
      "Iteration 282: Best Cost = 426.2805711302274\n",
      "Iteration 283: Best Cost = 426.2805711302274\n",
      "Iteration 284: Best Cost = 426.2805711302274\n",
      "Iteration 285: Best Cost = 426.2805711302274\n",
      "Iteration 286: Best Cost = 426.2805711302274\n",
      "Iteration 287: Best Cost = 426.2805711302274\n",
      "Iteration 288: Best Cost = 426.2805711302274\n",
      "Iteration 289: Best Cost = 426.2805711302274\n",
      "Iteration 290: Best Cost = 426.2805711302274\n",
      "Iteration 291: Best Cost = 426.2805711302274\n",
      "Iteration 292: Best Cost = 426.2805711302274\n",
      "Iteration 293: Best Cost = 426.2805711302274\n",
      "Iteration 294: Best Cost = 426.2805711302274\n",
      "Iteration 295: Best Cost = 426.2805711302274\n",
      "Iteration 296: Best Cost = 426.2805711302274\n",
      "Iteration 297: Best Cost = 426.2805711302274\n",
      "Iteration 298: Best Cost = 426.2805711302274\n",
      "Iteration 299: Best Cost = 426.2805711302274\n"
     ]
    }
   ],
   "source": [
    "for it in range(iterations):\n",
    "    for k in range(nAnts):\n",
    "        ants[k].tour = [np.random.randint(0,nCities)]\n",
    "        \n",
    "        for _ in range(nCities-1):\n",
    "            i = ants[k].tour[-1]\n",
    "            \n",
    "            p = (tau[i,:]**alpha) * (eta[i,:]**beta)\n",
    "            \n",
    "            for psi in ants[k].tour:\n",
    "                p[psi]= 0\n",
    "            \n",
    "            p /= np.sum(p)\n",
    "            \n",
    "            j = roulette_wheel(p)\n",
    "            \n",
    "            ants[k].tour.append(j)\n",
    "        \n",
    "        ants[k].cost = cost_function(ants[k].tour)\n",
    "        \n",
    "        if ants[k].cost < best_ant.cost:\n",
    "            best_ant = copy.deepcopy(ants[k])\n",
    "    \n",
    "    #----------------------------------\n",
    "    # Pheromone update\n",
    "    # evaporation part\n",
    "    tau = tau*(1 - rho)\n",
    "    \n",
    "    # deposit part\n",
    "    for k in range(nAnts):\n",
    "        \n",
    "        tour = ants[k].tour[:]\n",
    "        tour.append(tour[0])\n",
    "        \n",
    "        for l in range(nCities):\n",
    "            i = tour[l]\n",
    "            j = tour[l+1]\n",
    "            \n",
    "            tau[i,j] += Q / ants[k].cost\n",
    "            tau[j,i] = tau[i,j]\n",
    "    \n",
    "    #-----------------------------\n",
    "    # record the best cost\n",
    "    best_cost.append(best_ant.cost)\n",
    "    \n",
    "    # show information\n",
    "    print (f\"Iteration {it}: Best Cost = {best_cost[-1]}\")"
   ]
  },
  {
   "cell_type": "code",
   "execution_count": 161,
   "metadata": {
    "scrolled": false
   },
   "outputs": [
    {
     "data": {
      "image/png": "[encoded data removed]",
      "text/plain": [
       "<Figure size 432x288 with 1 Axes>"
      ]
     },
     "metadata": {
      "needs_background": "light"
     },
     "output_type": "display_data"
    }
   ],
   "source": [
    "plt.plot(best_cost, linewidth=3, color='blue')\n",
    "plt.show()"
   ]
  },
  {
   "cell_type": "code",
   "execution_count": 162,
   "metadata": {},
   "outputs": [
    {
     "data": {
      "image/png": "[encoded data removed]",
      "text/plain": [
       "<Figure size 432x288 with 1 Axes>"
      ]
     },
     "metadata": {
      "needs_background": "light"
     },
     "output_type": "display_data"
    }
   ],
   "source": [
    "path_x = []\n",
    "path_y = []\n",
    "for i in best_ant.tour:\n",
    "    path_x.append(country.cities[i][0])\n",
    "    path_y.append(country.cities[i][1])\n",
    "\n",
    "path_x.append(path_x[0])\n",
    "path_y.append(path_y[0])\n",
    "\n",
    "for i,j in zip(range(nCities), country.cities):\n",
    "    plt.text(j[0] + 0.5, j[1] + 0.5,\n",
    "            str(i), color= 'Black')\n",
    "\n",
    "plt.plot(country.cities[:,0], country.cities[:,1], 'bo')\n",
    "plt.plot(path_x,path_y, 'r--')\n",
    "plt.show()"
   ]
  }
 ],
 "metadata": {
  "kernelspec": {
   "display_name": "Python 3 (ipykernel)",
   "language": "python",
   "name": "python3"
  },
  "language_info": {
   "codemirror_mode": {
    "name": "ipython",
    "version": 3
   },
   "file_extension": ".py",
   "mimetype": "text/x-python",
   "name": "python",
   "nbconvert_exporter": "python",
   "pygments_lexer": "ipython3",
   "version": "3.9.17"
  }
 },
 "nbformat": 4,
 "nbformat_minor": 2
}
